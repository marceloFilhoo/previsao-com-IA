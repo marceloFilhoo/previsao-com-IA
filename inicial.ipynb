{
 "cells": [
  {
   "cell_type": "markdown",
   "metadata": {},
   "source": [
    "# Projeto Python IA: Inteligência Artificial e Previsões\n",
    "\n",
    "### Case: Score de Crédito dos Clientes\n",
    "\n",
    "Você foi contratado por um banco para conseguir definir o score de crédito dos clientes. Você precisa analisar todos os clientes do banco e, com base nessa análise, criar um modelo que consiga ler as informações do cliente e dizer automaticamente o score de crédito dele: Ruim, Ok, Bom"
   ]
  },
  {
   "cell_type": "code",
   "execution_count": 57,
   "metadata": {},
   "outputs": [],
   "source": [
    "#passo 0 - entender o desafio da empresa\n",
    "#passo 1 - importar base de dados\n",
    "#passo 2 - preparar a base de dados para a inteligencia de dados \n",
    "#passo 3 - criar modelos de IA - ele vai prever score de credito \n",
    "#passo 4 - escolher melhor modelo\n",
    "#passo 5 - usar a IA para fazer a previsão\n",
    "#!pip install numpy scikit-learn"
   ]
  },
  {
   "cell_type": "code",
   "execution_count": 58,
   "metadata": {},
   "outputs": [],
   "source": [
    "#passo 1 - importar base de dados\n",
    "import pandas as pd\n",
    "tabela  = pd.read_csv('clientes.csv')\n",
    "\n"
   ]
  },
  {
   "cell_type": "code",
   "execution_count": 59,
   "metadata": {},
   "outputs": [],
   "source": [
    "#passo 2  - preparar a base de dados para a inteligencia de dados \n",
    "#tem que transformar todos as tabelas em numeros para a inteligencia artificial conseguir estudar\n",
    "#comportamento_pagamento\n",
    "#mix_credito\n",
    "#profissao\n",
    "from sklearn.preprocessing import LabelEncoder #importa so a parte de label encoder\n",
    "\n",
    "codificador = LabelEncoder() #serve para transformar strings em numeros\n",
    "\n",
    "tabela[\"profissao\"] = codificador.fit_transform(tabela[\"profissao\"])\n",
    "tabela[\"mix_credito\"] = codificador.fit_transform(tabela[\"mix_credito\"])\n",
    "tabela[\"comportamento_pagamento\"] = codificador.fit_transform(tabela[\"comportamento_pagamento\"])\n"
   ]
  },
  {
   "cell_type": "code",
   "execution_count": 60,
   "metadata": {},
   "outputs": [],
   "source": [
    "#passo 3 - criar modelos de IA - ele vai prever score de credito\n",
    "# x = sao as colunas que vai usar para fazer a previsao estudar \n",
    "    #nao vamos usar coluna id cliente pois ela é valor aleatorio\n",
    "# y = é a coluna que quer prever\n",
    "\n",
    "y = tabela[\"score_credito\"]\n",
    "x = tabela.drop(columns=[\"score_credito\", \"id_cliente\"])\n",
    "\n",
    "from sklearn.model_selection import train_test_split #importando modelos de treino de IA\n",
    "#aqui basicamente é dividindo a tabela em parte para IA treinar e dps parte para a gente fazer o teste na IA para ver a eficacia dela\n",
    "x_treino,x_teste,y_treino,y_teste = train_test_split(x,y, test_size= 0.20 )\n",
    "# de padrao vem em 30% do tamanho da tabela para fazer o teste dps o resto fica para aprendizado mas tem como alterar com esse test_size"
   ]
  },
  {
   "cell_type": "code",
   "execution_count": 61,
   "metadata": {},
   "outputs": [
    {
     "data": {
      "text/html": [
       "<style>#sk-container-id-6 {color: black;}#sk-container-id-6 pre{padding: 0;}#sk-container-id-6 div.sk-toggleable {background-color: white;}#sk-container-id-6 label.sk-toggleable__label {cursor: pointer;display: block;width: 100%;margin-bottom: 0;padding: 0.3em;box-sizing: border-box;text-align: center;}#sk-container-id-6 label.sk-toggleable__label-arrow:before {content: \"▸\";float: left;margin-right: 0.25em;color: #696969;}#sk-container-id-6 label.sk-toggleable__label-arrow:hover:before {color: black;}#sk-container-id-6 div.sk-estimator:hover label.sk-toggleable__label-arrow:before {color: black;}#sk-container-id-6 div.sk-toggleable__content {max-height: 0;max-width: 0;overflow: hidden;text-align: left;background-color: #f0f8ff;}#sk-container-id-6 div.sk-toggleable__content pre {margin: 0.2em;color: black;border-radius: 0.25em;background-color: #f0f8ff;}#sk-container-id-6 input.sk-toggleable__control:checked~div.sk-toggleable__content {max-height: 200px;max-width: 100%;overflow: auto;}#sk-container-id-6 input.sk-toggleable__control:checked~label.sk-toggleable__label-arrow:before {content: \"▾\";}#sk-container-id-6 div.sk-estimator input.sk-toggleable__control:checked~label.sk-toggleable__label {background-color: #d4ebff;}#sk-container-id-6 div.sk-label input.sk-toggleable__control:checked~label.sk-toggleable__label {background-color: #d4ebff;}#sk-container-id-6 input.sk-hidden--visually {border: 0;clip: rect(1px 1px 1px 1px);clip: rect(1px, 1px, 1px, 1px);height: 1px;margin: -1px;overflow: hidden;padding: 0;position: absolute;width: 1px;}#sk-container-id-6 div.sk-estimator {font-family: monospace;background-color: #f0f8ff;border: 1px dotted black;border-radius: 0.25em;box-sizing: border-box;margin-bottom: 0.5em;}#sk-container-id-6 div.sk-estimator:hover {background-color: #d4ebff;}#sk-container-id-6 div.sk-parallel-item::after {content: \"\";width: 100%;border-bottom: 1px solid gray;flex-grow: 1;}#sk-container-id-6 div.sk-label:hover label.sk-toggleable__label {background-color: #d4ebff;}#sk-container-id-6 div.sk-serial::before {content: \"\";position: absolute;border-left: 1px solid gray;box-sizing: border-box;top: 0;bottom: 0;left: 50%;z-index: 0;}#sk-container-id-6 div.sk-serial {display: flex;flex-direction: column;align-items: center;background-color: white;padding-right: 0.2em;padding-left: 0.2em;position: relative;}#sk-container-id-6 div.sk-item {position: relative;z-index: 1;}#sk-container-id-6 div.sk-parallel {display: flex;align-items: stretch;justify-content: center;background-color: white;position: relative;}#sk-container-id-6 div.sk-item::before, #sk-container-id-6 div.sk-parallel-item::before {content: \"\";position: absolute;border-left: 1px solid gray;box-sizing: border-box;top: 0;bottom: 0;left: 50%;z-index: -1;}#sk-container-id-6 div.sk-parallel-item {display: flex;flex-direction: column;z-index: 1;position: relative;background-color: white;}#sk-container-id-6 div.sk-parallel-item:first-child::after {align-self: flex-end;width: 50%;}#sk-container-id-6 div.sk-parallel-item:last-child::after {align-self: flex-start;width: 50%;}#sk-container-id-6 div.sk-parallel-item:only-child::after {width: 0;}#sk-container-id-6 div.sk-dashed-wrapped {border: 1px dashed gray;margin: 0 0.4em 0.5em 0.4em;box-sizing: border-box;padding-bottom: 0.4em;background-color: white;}#sk-container-id-6 div.sk-label label {font-family: monospace;font-weight: bold;display: inline-block;line-height: 1.2em;}#sk-container-id-6 div.sk-label-container {text-align: center;}#sk-container-id-6 div.sk-container {/* jupyter's `normalize.less` sets `[hidden] { display: none; }` but bootstrap.min.css set `[hidden] { display: none !important; }` so we also need the `!important` here to be able to override the default hidden behavior on the sphinx rendered scikit-learn.org. See: https://github.com/scikit-learn/scikit-learn/issues/21755 */display: inline-block !important;position: relative;}#sk-container-id-6 div.sk-text-repr-fallback {display: none;}</style><div id=\"sk-container-id-6\" class=\"sk-top-container\"><div class=\"sk-text-repr-fallback\"><pre>KNeighborsClassifier()</pre><b>In a Jupyter environment, please rerun this cell to show the HTML representation or trust the notebook. <br />On GitHub, the HTML representation is unable to render, please try loading this page with nbviewer.org.</b></div><div class=\"sk-container\" hidden><div class=\"sk-item\"><div class=\"sk-estimator sk-toggleable\"><input class=\"sk-toggleable__control sk-hidden--visually\" id=\"sk-estimator-id-6\" type=\"checkbox\" checked><label for=\"sk-estimator-id-6\" class=\"sk-toggleable__label sk-toggleable__label-arrow\">KNeighborsClassifier</label><div class=\"sk-toggleable__content\"><pre>KNeighborsClassifier()</pre></div></div></div></div></div>"
      ],
      "text/plain": [
       "KNeighborsClassifier()"
      ]
     },
     "execution_count": 61,
     "metadata": {},
     "output_type": "execute_result"
    }
   ],
   "source": [
    "#criando IA\n",
    "# arvore de decisao = RandomForest\n",
    "# vizinhos proximos = KNN \n",
    "#importando a IA\n",
    "from sklearn.ensemble import RandomForestClassifier #arvore de decisao\n",
    "from sklearn.neighbors import KNeighborsClassifier #KNN\n",
    "#instanciando as IA\n",
    "modelo_arvore = RandomForestClassifier()\n",
    "modelo_vizinhos = KNeighborsClassifier()\n",
    "#treinando IA\n",
    "modelo_arvore.fit(x_treino,y_treino)\n",
    "modelo_vizinhos.fit(x_treino,y_treino)"
   ]
  },
  {
   "cell_type": "code",
   "execution_count": 62,
   "metadata": {},
   "outputs": [
    {
     "name": "stderr",
     "output_type": "stream",
     "text": [
      "d:\\programas\\python\\anaconda\\Lib\\site-packages\\sklearn\\base.py:464: UserWarning: X does not have valid feature names, but KNeighborsClassifier was fitted with feature names\n",
      "  warnings.warn(\n"
     ]
    },
    {
     "name": "stdout",
     "output_type": "stream",
     "text": [
      "0.83105\n",
      "0.75165\n"
     ]
    }
   ],
   "source": [
    "#comparando as 2 IA\n",
    "from sklearn.metrics import accuracy_score\n",
    "previsao_arvore = modelo_arvore.predict(x_teste)# pedindo para as IA fazer o teste\n",
    "previsao_vizinhos = modelo_vizinhos.predict(x_teste.to_numpy())# tem que colocar o numpy para nao da erro\n",
    "print(accuracy_score(y_teste, previsao_arvore))\n",
    "print(accuracy_score(y_teste, previsao_vizinhos))# comparando a resposta da IA com o resultado real e dando porcentagem"
   ]
  },
  {
   "cell_type": "code",
   "execution_count": 66,
   "metadata": {},
   "outputs": [
    {
     "data": {
      "text/html": [
       "<div>\n",
       "<style scoped>\n",
       "    .dataframe tbody tr th:only-of-type {\n",
       "        vertical-align: middle;\n",
       "    }\n",
       "\n",
       "    .dataframe tbody tr th {\n",
       "        vertical-align: top;\n",
       "    }\n",
       "\n",
       "    .dataframe thead th {\n",
       "        text-align: right;\n",
       "    }\n",
       "</style>\n",
       "<table border=\"1\" class=\"dataframe\">\n",
       "  <thead>\n",
       "    <tr style=\"text-align: right;\">\n",
       "      <th></th>\n",
       "      <th>mes</th>\n",
       "      <th>idade</th>\n",
       "      <th>profissao</th>\n",
       "      <th>salario_anual</th>\n",
       "      <th>num_contas</th>\n",
       "      <th>num_cartoes</th>\n",
       "      <th>juros_emprestimo</th>\n",
       "      <th>num_emprestimos</th>\n",
       "      <th>dias_atraso</th>\n",
       "      <th>num_pagamentos_atrasados</th>\n",
       "      <th>...</th>\n",
       "      <th>idade_historico_credito</th>\n",
       "      <th>investimento_mensal</th>\n",
       "      <th>comportamento_pagamento</th>\n",
       "      <th>saldo_final_mes</th>\n",
       "      <th>emprestimo_carro</th>\n",
       "      <th>emprestimo_casa</th>\n",
       "      <th>emprestimo_pessoal</th>\n",
       "      <th>emprestimo_credito</th>\n",
       "      <th>emprestimo_estudantil</th>\n",
       "      <th>score_credito</th>\n",
       "    </tr>\n",
       "  </thead>\n",
       "  <tbody>\n",
       "    <tr>\n",
       "      <th>0</th>\n",
       "      <td>1</td>\n",
       "      <td>31.0</td>\n",
       "      <td>1</td>\n",
       "      <td>19300.340</td>\n",
       "      <td>6.0</td>\n",
       "      <td>7.0</td>\n",
       "      <td>17.0</td>\n",
       "      <td>5.0</td>\n",
       "      <td>52.0</td>\n",
       "      <td>19.0</td>\n",
       "      <td>...</td>\n",
       "      <td>218.0</td>\n",
       "      <td>44.50951</td>\n",
       "      <td>1</td>\n",
       "      <td>312.487689</td>\n",
       "      <td>1</td>\n",
       "      <td>1</td>\n",
       "      <td>0</td>\n",
       "      <td>0</td>\n",
       "      <td>0</td>\n",
       "      <td>Poor</td>\n",
       "    </tr>\n",
       "    <tr>\n",
       "      <th>1</th>\n",
       "      <td>4</td>\n",
       "      <td>32.0</td>\n",
       "      <td>0</td>\n",
       "      <td>12600.445</td>\n",
       "      <td>5.0</td>\n",
       "      <td>5.0</td>\n",
       "      <td>10.0</td>\n",
       "      <td>3.0</td>\n",
       "      <td>25.0</td>\n",
       "      <td>18.0</td>\n",
       "      <td>...</td>\n",
       "      <td>12.0</td>\n",
       "      <td>0.00000</td>\n",
       "      <td>2</td>\n",
       "      <td>300.994163</td>\n",
       "      <td>0</td>\n",
       "      <td>0</td>\n",
       "      <td>0</td>\n",
       "      <td>0</td>\n",
       "      <td>1</td>\n",
       "      <td>Good</td>\n",
       "    </tr>\n",
       "    <tr>\n",
       "      <th>2</th>\n",
       "      <td>2</td>\n",
       "      <td>48.0</td>\n",
       "      <td>1</td>\n",
       "      <td>20787.690</td>\n",
       "      <td>8.0</td>\n",
       "      <td>6.0</td>\n",
       "      <td>14.0</td>\n",
       "      <td>7.0</td>\n",
       "      <td>24.0</td>\n",
       "      <td>14.0</td>\n",
       "      <td>...</td>\n",
       "      <td>215.0</td>\n",
       "      <td>0.00000</td>\n",
       "      <td>0</td>\n",
       "      <td>345.081577</td>\n",
       "      <td>0</td>\n",
       "      <td>1</td>\n",
       "      <td>0</td>\n",
       "      <td>1</td>\n",
       "      <td>0</td>\n",
       "      <td>Good</td>\n",
       "    </tr>\n",
       "  </tbody>\n",
       "</table>\n",
       "<p>3 rows × 24 columns</p>\n",
       "</div>"
      ],
      "text/plain": [
       "   mes  idade  profissao  salario_anual  num_contas  num_cartoes  \\\n",
       "0    1   31.0          1      19300.340         6.0          7.0   \n",
       "1    4   32.0          0      12600.445         5.0          5.0   \n",
       "2    2   48.0          1      20787.690         8.0          6.0   \n",
       "\n",
       "   juros_emprestimo  num_emprestimos  dias_atraso  num_pagamentos_atrasados  \\\n",
       "0              17.0              5.0         52.0                      19.0   \n",
       "1              10.0              3.0         25.0                      18.0   \n",
       "2              14.0              7.0         24.0                      14.0   \n",
       "\n",
       "   ...  idade_historico_credito  investimento_mensal  comportamento_pagamento  \\\n",
       "0  ...                    218.0             44.50951                        1   \n",
       "1  ...                     12.0              0.00000                        2   \n",
       "2  ...                    215.0              0.00000                        0   \n",
       "\n",
       "   saldo_final_mes  emprestimo_carro  emprestimo_casa  emprestimo_pessoal  \\\n",
       "0       312.487689                 1                1                   0   \n",
       "1       300.994163                 0                0                   0   \n",
       "2       345.081577                 0                1                   0   \n",
       "\n",
       "   emprestimo_credito  emprestimo_estudantil  score_credito  \n",
       "0                   0                      0           Poor  \n",
       "1                   0                      1           Good  \n",
       "2                   1                      0           Good  \n",
       "\n",
       "[3 rows x 24 columns]"
      ]
     },
     "metadata": {},
     "output_type": "display_data"
    }
   ],
   "source": [
    "#importando novos clientes\n",
    "\n",
    "tabela_novo = pd.read_csv(\"novos_clientes.csv\")\n",
    "#codificando para IA\n",
    "tabela_novo[\"profissao\"] = codificador.fit_transform(tabela_novo[\"profissao\"])\n",
    "tabela_novo[\"mix_credito\"] = codificador.fit_transform(tabela_novo[\"mix_credito\"])\n",
    "tabela_novo[\"comportamento_pagamento\"] = codificador.fit_transform(tabela_novo[\"comportamento_pagamento\"])\n",
    "#IA fazendo a previsao\n",
    "nova_previsao = modelo_arvore.predict(tabela_novo)\n",
    "tabela_novo[\"score_credito\"] = nova_previsao\n",
    "display(tabela_novo)\n"
   ]
  }
 ],
 "metadata": {
  "kernelspec": {
   "display_name": "Python 3",
   "language": "python",
   "name": "python3"
  },
  "language_info": {
   "codemirror_mode": {
    "name": "ipython",
    "version": 3
   },
   "file_extension": ".py",
   "mimetype": "text/x-python",
   "name": "python",
   "nbconvert_exporter": "python",
   "pygments_lexer": "ipython3",
   "version": "3.11.5"
  },
  "orig_nbformat": 4
 },
 "nbformat": 4,
 "nbformat_minor": 2
}
